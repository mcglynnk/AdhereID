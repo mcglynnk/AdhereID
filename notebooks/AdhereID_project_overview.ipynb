{
 "cells": [
  {
   "cell_type": "markdown",
   "metadata": {},
   "source": [
    "## AdhereID\n",
    "#### Predicting medication adherence"
   ]
  },
  {
   "cell_type": "markdown",
   "metadata": {},
   "source": [
    "Welcome to AdhereID!  This is a project I completed as part of the Insight Health Data Science Program.  Since I coded the whole project .py files via PyCharm, the purpose of this notebook is to provide an overview of the project, code and associated files."
   ]
  },
  {
   "cell_type": "markdown",
   "metadata": {},
   "source": [
    "#### Project Structure    \n",
    "```\n",
    "code/   \n",
    "    # Collecting and cleaning data\n",
    "      n01_ncpa_import_clean_export.py\n",
    "      n02_patientslikeme_webscraping.py\n",
    "      n03_clean_patientslikeme.py\n",
    "\n",
    "    # Models and model analysis\n",
    "      n04_eval_models.py              # Initial model evaluation\n",
    "      n05_final_logreg.py             # Final logistic regression model\n",
    "      n05_final_rf.py                 # Random forest model (for comparison)\n",
    "      n06_feature_importance.py\n",
    "      n07_model_performance_plots.py\n",
    "\n",
    "data/\n",
    "      raw/\n",
    "      cleaned/\n",
    "\n",
    "documents/\n",
    "    # NCPA dataset codebook\n",
    "\n",
    "notebooks/\n",
    "    # Jupyter notebook with README information\n",
    "          ```    "
   ]
  },
  {
   "cell_type": "markdown",
   "metadata": {},
   "source": [
    "#### Data Sources\n",
    "\n",
    "The goal of this project was to develop a machine learning model to predict medication adherence.  Medication non-adherence is a widespread problem in the healthcare industry. About 131 million Americans (half the population!) take at least one prescription medication, and 10~25% of these people don't take their prescription as prescribed.  \n",
    "   \n",
    "A tool to predict medication adherence could be used in the doctor's office or pharmacy to determine which patients are at risk for non-adherence; based on this prediction, the healthcare provider could take action to help the patient comply such as providing information on managing side effects, suggesting a pill reminder app, or prescribing a lower-cost or shorter-term treatment.\n",
    "    \n",
    "While adherence prediction has been tackled by academia and large healthcare companies alike, typically adherence has been inferred from a combination of electronic health record data and insurance claims data.  In this project, I decided to test whether publicly available demographic and patient-reported medical literacy data could be used in a similar way.\n",
    "    \n",
    "I collected two datasets to use for this project:"
   ]
  },
  {
   "cell_type": "markdown",
   "metadata": {},
   "source": [
    "#### 1.  NCPA (National Community Pharmacists Association) : Medication Adherence Survey (2013)\n",
    "Phone survey dataset of 1,020 adults in the U.S. See documents/ for the dataset's codebook containing the full list of survey questions.    \n",
    "- Downloaded from: https://ropercenter.cornell.edu/CFIDE/cf/action/catalog/abstract.cfm?type=&start=&id=&archno=USMISC2013-NCPA&abstract (Accessed 1-14-2020)\n",
    "- Data format: SPSS\n",
    "- 1020 rows x 158 columns"
   ]
  },
  {
   "cell_type": "markdown",
   "metadata": {},
   "source": [
    "#### 2.  PatientsLikeMe\n",
    "An online community for discussing medical conditions and medications.  \n",
    "- Web scraped using beautifulsoup (Accessed 1-20-2020)\n",
    "- Data format: data extracted from HTML\n",
    "- 10,025 rows of drug reviews (adherence, burden(difficulty of taking) and cost) x 11 columns"
   ]
  },
  {
   "cell_type": "markdown",
   "metadata": {},
   "source": []
  }
 ],
 "metadata": {
  "kernelspec": {
   "display_name": "Python 3",
   "language": "python",
   "name": "python3"
  },
  "language_info": {
   "codemirror_mode": {
    "name": "ipython",
    "version": 3
   },
   "file_extension": ".py",
   "mimetype": "text/x-python",
   "name": "python",
   "nbconvert_exporter": "python",
   "pygments_lexer": "ipython3",
   "version": "3.7.4"
  }
 },
 "nbformat": 4,
 "nbformat_minor": 2
}
